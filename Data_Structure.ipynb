{
  "nbformat": 4,
  "nbformat_minor": 0,
  "metadata": {
    "colab": {
      "provenance": []
    },
    "kernelspec": {
      "name": "python3",
      "display_name": "Python 3"
    },
    "language_info": {
      "name": "python"
    }
  },
  "cells": [
    {
      "cell_type": "markdown",
      "source": [
        "# Data types and structure Questions:"
      ],
      "metadata": {
        "id": "duMnqddYrOdB"
      }
    },
    {
      "cell_type": "markdown",
      "source": [
        "1. What are data structures, and why are they important?\n",
        "ANS: It is a way of organizing, storing and managing data so it can be used efficiently. python provides a variety of built-in-data structures, each suited for specific task and operation. it also mange the information based on their characteristic and intended use.\n",
        "Importance of data structure:\n",
        "- Improve efficiency.\n",
        "- Solve complex problem effectively.\n",
        "- Improve code readability and maintainability.\n",
        "- In data structure it simplify data manipulation( adding, removing, modifying elements)\n",
        "- It optimize searching and sorting operations.\n",
        "- We can used various data structures like string, tuple, list, dictionary, array"
      ],
      "metadata": {
        "id": "MhpRmWDtrZ8o"
      }
    },
    {
      "cell_type": "markdown",
      "source": [
        "2.Explain the difference between mutable and immutable data types with examples?\n",
        "ANS: In python, mutable and immutable data types differ whether the value can be changed after they are created.\n",
        "\n",
        "Mutable Data Types: It can be changed after they are created. We can modify the data by adding, removing and updating the elements. It used when data need to be frequently updated.\n",
        "e.g.- List, Dictionary, Set.\n",
        "\n",
        "Immutable Data Type: It cannot be changed after they are created. In that new objects are created for changes. It used when hashing is needed.\n",
        "e.g.- Tuple, String, Frozenset.\n",
        "\n",
        "\n"
      ],
      "metadata": {
        "id": "vV0440fquUBH"
      }
    },
    {
      "cell_type": "markdown",
      "source": [
        "3. What are the main differences between lists and tuples in Python?\n",
        "ANS: List:\n",
        "- A built-in data type that stores set of values. It can be store elements of different types(integer, float, string, etc.).\n",
        "- Its mutable- we can add, remove, modify elements.\n",
        "- Syntax = [ ]\n",
        "- Its unhashable\n",
        "- In list, we need a dynamic, modifiable collection of data.\n",
        "\n",
        "Tuple:\n",
        "- A built-in data type that let us create immutable sequence of values.\n",
        "- Its immutable- once created you can not change the content.\n",
        "- Syntax= ()\n",
        "- Its hashable (if elements are immutable)\n",
        "- In Tuple, we need a fixed collection of items."
      ],
      "metadata": {
        "id": "XHas8b6axCkQ"
      }
    },
    {
      "cell_type": "markdown",
      "source": [
        "4. Describe how dictionaries store data?\n",
        "ANS: In dictionary, which stores data in the form key-value pairs.\n",
        "Its a unordered collections- elements are not stored in specific order.\n",
        "Its keys are unique.\n",
        "Keys and values can be of various data types(string, number, list)"
      ],
      "metadata": {
        "id": "ZUS_l6EkhZ5k"
      }
    },
    {
      "cell_type": "markdown",
      "source": [
        "5. Why might you use a set instead of a list in Python?\n",
        "ANS: Set: It is the collection of unordered items. Each element in the set must be unique & immutable. In set, Duplicate entries are not allowed. Set are useful for checking membership or finding the interaction / difference between set.\n",
        "\n",
        "List: It is the collection of ordered items & mutable elements. List can hold items of various data types(string, numbers. etc.). List also allowed duplicates. We need to access elements by their position."
      ],
      "metadata": {
        "id": "APAln6ObjSYq"
      }
    },
    {
      "cell_type": "markdown",
      "source": [
        "6. What is a string in Python, and how is it different from a list?\n",
        "ANS: String:\n",
        "- Its a data type that stores a sequence of character.\n",
        "- Its immutable data types- Once created the content of string cannot be changed.\n",
        "- It represent textual data\n",
        "- It define using( \" \", ' ', \"' '\")\n",
        "- It support many operations like Concatenation, slicing, case manipulation.\n",
        "\n",
        "List:\n",
        "- Its a collection of items, which can be of any data type.\n",
        "- Its mutable- we can add, remove, modify elements.\n",
        "- It contain any type of data (integers, float, strings, etc.)\n",
        "- Syntax = [ ]"
      ],
      "metadata": {
        "id": "cmbXhWecXjHA"
      }
    },
    {
      "cell_type": "markdown",
      "source": [
        "7. How do tuples ensure data integrity in Python?\n",
        "ANS: Tuples ensure data integrity through their immutable sequence of values.\n",
        "Its immutable- once created you can not change the content.\n",
        "Syntax= ()\n",
        "Its hashable (support use in dictionaries and set).\n",
        "In Tuple, we need a fixed collection of items."
      ],
      "metadata": {
        "id": "AVoBDKifZtVa"
      }
    },
    {
      "cell_type": "markdown",
      "source": [
        "8. What is a hash table, and how does it relate to dictionaries in Python?\n",
        "ANS: A hash table is a data structure that stores data value in the form of key:value pairs by using hashing. Dictionaries rely on hash tables to provide the fast and efficient storage. The values are stored in the array at the index determined by the hash of the key."
      ],
      "metadata": {
        "id": "9rDSiucjadiZ"
      }
    },
    {
      "cell_type": "markdown",
      "source": [
        "9.Can lists contain different data types in Python?\n",
        "ANS: Yes, list contain different data types in python like integer, float, string, etc. List allow to store heterogenous data.\n"
      ],
      "metadata": {
        "id": "2JSWGt3IcCP2"
      }
    },
    {
      "cell_type": "markdown",
      "source": [
        "10. Explain why strings are immutable in Python?\n",
        "ANS: String in python are immutable, because once a string created it can not be changed. Any operation that appears to modify a string actually creates a new string. Characters arranged in an unchangeable order. It a sequence of character also its represents and manipulate textual data."
      ],
      "metadata": {
        "id": "xIbJlcgwcoxY"
      }
    },
    {
      "cell_type": "markdown",
      "source": [
        "11. What advantages do dictionaries offer over lists for certain tasks?\n",
        "ANS: Dictionaries:\n",
        "- In dictionary, which stores data in the form key-value pairs.\n",
        "- Its a unordered collections- elements are not stored in specific order.\n",
        "- Its keys are unique, which ensure data integrity and prevents duplicate entries.\n",
        "- Keys and values can be of various data types(string, number, list)\n",
        "- We can update or delete specific elements efficiently by key.\n",
        "\n",
        "List:\n",
        "- Its a collection of items, which can be of any data type.\n",
        "- Its mutable- we can add, remove, modify elements.\n",
        "- It also allow duplicate elements.\n",
        "- Its rely on positional indexing.\n",
        "- It suited for ordered collection or homogenous datasets.  "
      ],
      "metadata": {
        "id": "_d49-F50dzmc"
      }
    },
    {
      "cell_type": "code",
      "source": [],
      "metadata": {
        "id": "qr7vNxDZdyk-"
      },
      "execution_count": null,
      "outputs": []
    },
    {
      "cell_type": "markdown",
      "source": [
        "12. Describe a scenario where using a tuple would be preferable over a list?\n",
        "ANS: Tuple is preferable over a list where immutability , data integrity are important. Tuples are useful for representing fixed data sets or configurations. Since tuples are immutable , they can be used as keys in dictionaries, unlike list. List can not be used as dictionary key or set elements because they are mutable.  "
      ],
      "metadata": {
        "id": "ZuyEmfqlgJWQ"
      }
    },
    {
      "cell_type": "markdown",
      "source": [
        "13. How do sets handle duplicate values in Python?\n",
        "ANS: A set is the collection of the unordered items. Each element in the set must be unquie and immutable. Sets are designed to handle duplicate values. If we want to try to add duplicate values to a set, only one instant of each value will be retained."
      ],
      "metadata": {
        "id": "9kVkFO2Ni1d9"
      }
    },
    {
      "cell_type": "markdown",
      "source": [
        "14.  How does the “in” keyword work differently for lists and dictionaries?\n",
        "ANS: - The in keyword is used to check for membership.\n",
        "- In List, in keyword checks if a given value is present as an element in the list.\n",
        "- In dictionary, in keyword checks only the keys by default, not the values."
      ],
      "metadata": {
        "id": "s4m9dyu2kSdk"
      }
    },
    {
      "cell_type": "markdown",
      "source": [
        "15.  Can you modify the elements of a tuple? Explain why or why not?\n",
        "ANS: We can not modify the elements of a tuple because tuples are immutable. Once a tuple is created, its elements can not be changed. They also provides a secure way to store data that shouldn't be modified. Tuples are useful for representing fixed datasets or configurations."
      ],
      "metadata": {
        "id": "35nCijU5lJmP"
      }
    },
    {
      "cell_type": "markdown",
      "source": [
        "16.  What is a nested dictionary, and give an example of its use case?\n",
        "ANS: It is a dictionary within another dictionary. Where the values associated with one or more keys are themselves dictionaries.\n",
        "\n",
        "e.g. - inventory= {\"Electronics\": {\"Laptops\":90, \"phones\": 100},\n",
        "                   \"Furniture\": { \"Chairs\": 150, \"Tables\": 200}\n",
        "                   }\n",
        "      print(inventory[\"Electronics\"] [\"phones\"])\n",
        "              "
      ],
      "metadata": {
        "id": "BYMUMQBSmaan"
      }
    },
    {
      "cell_type": "markdown",
      "source": [
        "17. Describe the time complexity of accessing elements in a dictionary?\n",
        "ANS: Dictionary are implemented using hash tables, which makes them very efficient for key: values. The time complexity of accessing elements in a dictionary its depend on the operations:\n",
        "- Add: Adding or updating a key-value pair\n",
        "- Access: Retrive values using their keys\n",
        "- Remove: removing a key value pair by key\n",
        "- Check membership: Use the in opertaor"
      ],
      "metadata": {
        "id": "D39rVlKCphOE"
      }
    },
    {
      "cell_type": "markdown",
      "source": [
        "18. In what situations are lists preferred over dictionaries?\n",
        "ANS:\n",
        "- List are ordered, mutable collection of elements, whereas dictionaries are unordered collection of elements.\n",
        "- List allow duplicate elements whereas dictionaries do not allow duplicate keys.\n",
        "- List are more efficient than dictionaries when storing sequence because they don't store hash keys.\n",
        "- In List, we can add, remove or modify elements within a list using indexing and slicing, whereas dictionary accessed by key."
      ],
      "metadata": {
        "id": "WYHxba-axaTK"
      }
    },
    {
      "cell_type": "markdown",
      "source": [
        "19. Why are dictionaries considered unordered, and how does that affect data retrieval?\n",
        "ANS:\n",
        "- Dictionary are used to store data value in key:value pairs.\n",
        "- They are unordered and mutable collection of elements.\n",
        "- Dictionary are unordered because their internal implementation based on the hash table.\n",
        "- In dictionary, elements are accessed using their keys, not their position."
      ],
      "metadata": {
        "id": "tisJcp70zRbM"
      }
    },
    {
      "cell_type": "markdown",
      "source": [
        "20.  Explain the difference between a list and a dictionary in terms of data retrieval?\n",
        "ANS: LIST:\n",
        "- It access elements by their positional index.\n",
        "- List are ordered and mutable collection of elements.\n",
        "- It allows duplicate elements.\n",
        "- Its suitable for heterogenous data collection.\n",
        "\n",
        "Dictionary:\n",
        "- It access elements by key.\n",
        "- Dictionary are unordered collection of elements which are not stored in specific order.\n",
        "-Key must be unique but values can be duplicate.\n",
        "- It is good for key: value pairs"
      ],
      "metadata": {
        "id": "noI6Pj6y0mIA"
      }
    },
    {
      "cell_type": "markdown",
      "source": [
        "# Practical Questions:"
      ],
      "metadata": {
        "id": "5cVo-2kh2JI8"
      }
    },
    {
      "cell_type": "markdown",
      "source": [
        "1. Write a code to create a string with your name and print it."
      ],
      "metadata": {
        "id": "VTYpNjqv2PTG"
      }
    },
    {
      "cell_type": "code",
      "source": [
        "my_name= \"Ruchita\"\n",
        "print(my_name)"
      ],
      "metadata": {
        "colab": {
          "base_uri": "https://localhost:8080/"
        },
        "id": "5Fy6b2D42U3F",
        "outputId": "0abe8c2d-aad7-43de-c9f9-6a6154b9cfe9"
      },
      "execution_count": 2,
      "outputs": [
        {
          "output_type": "stream",
          "name": "stdout",
          "text": [
            "Ruchita\n"
          ]
        }
      ]
    },
    {
      "cell_type": "markdown",
      "source": [
        "2. Write a code to find the length of the string \"Hello World\"."
      ],
      "metadata": {
        "id": "Hh9YlgjJ2lxt"
      }
    },
    {
      "cell_type": "code",
      "source": [
        "my_string= \"Hello World\"\n",
        "length= len(my_string)\n",
        "print(\"The length of string is:\", length)"
      ],
      "metadata": {
        "colab": {
          "base_uri": "https://localhost:8080/"
        },
        "id": "GxF2SkQq2qEw",
        "outputId": "e5c520ba-7deb-4502-f549-32796c036945"
      },
      "execution_count": 5,
      "outputs": [
        {
          "output_type": "stream",
          "name": "stdout",
          "text": [
            "The length of string is: 11\n"
          ]
        }
      ]
    },
    {
      "cell_type": "markdown",
      "source": [
        "3. Write a code to slice the first 3 characters from the string \"Python Programming\"."
      ],
      "metadata": {
        "id": "ERAteiv-3AxJ"
      }
    },
    {
      "cell_type": "code",
      "source": [
        "my_string= \"Python Programming\"\n",
        "my_string[:3]"
      ],
      "metadata": {
        "colab": {
          "base_uri": "https://localhost:8080/",
          "height": 36
        },
        "id": "LZbTQvwI3HQw",
        "outputId": "0c082abb-0a51-4996-9550-9a4bc8a85284"
      },
      "execution_count": 6,
      "outputs": [
        {
          "output_type": "execute_result",
          "data": {
            "text/plain": [
              "'Pyt'"
            ],
            "application/vnd.google.colaboratory.intrinsic+json": {
              "type": "string"
            }
          },
          "metadata": {},
          "execution_count": 6
        }
      ]
    },
    {
      "cell_type": "code",
      "source": [
        "my_string= \"Python Programming\"\n",
        "sliced = my_string[:3]\n",
        "print(sliced)"
      ],
      "metadata": {
        "colab": {
          "base_uri": "https://localhost:8080/"
        },
        "id": "8xlw3thR36PO",
        "outputId": "d928a462-1ded-423c-e97c-11beb7989fdb"
      },
      "execution_count": 7,
      "outputs": [
        {
          "output_type": "stream",
          "name": "stdout",
          "text": [
            "Pyt\n"
          ]
        }
      ]
    },
    {
      "cell_type": "markdown",
      "source": [
        "4. Write a code to convert the string \"hello\" to uppercase."
      ],
      "metadata": {
        "id": "lVGQ58Wy4MdY"
      }
    },
    {
      "cell_type": "code",
      "source": [
        "my_string= \"hello\"\n",
        "my_string.upper()"
      ],
      "metadata": {
        "colab": {
          "base_uri": "https://localhost:8080/",
          "height": 36
        },
        "id": "MPWK1zA54Kww",
        "outputId": "84b5ba21-a385-4988-91e4-c441897a5093"
      },
      "execution_count": 9,
      "outputs": [
        {
          "output_type": "execute_result",
          "data": {
            "text/plain": [
              "'HELLO'"
            ],
            "application/vnd.google.colaboratory.intrinsic+json": {
              "type": "string"
            }
          },
          "metadata": {},
          "execution_count": 9
        }
      ]
    },
    {
      "cell_type": "markdown",
      "source": [
        "5. Write a code to replace the word \"apple\" with \"orange\" in the string \"I like apple\"."
      ],
      "metadata": {
        "id": "_eJSX04W4pn7"
      }
    },
    {
      "cell_type": "code",
      "source": [
        "my_string= \"I like apple\"\n",
        "my_string.replace(\"apple\", \"orange\")"
      ],
      "metadata": {
        "colab": {
          "base_uri": "https://localhost:8080/",
          "height": 36
        },
        "id": "IWQKkjLT4vYw",
        "outputId": "5ad8ed08-8a8f-491f-ba67-8635ea31b869"
      },
      "execution_count": 10,
      "outputs": [
        {
          "output_type": "execute_result",
          "data": {
            "text/plain": [
              "'I like orange'"
            ],
            "application/vnd.google.colaboratory.intrinsic+json": {
              "type": "string"
            }
          },
          "metadata": {},
          "execution_count": 10
        }
      ]
    },
    {
      "cell_type": "code",
      "source": [
        "my_string= \"I like apple\"\n",
        "modified_string= my_string.replace(\"apple\", \"orange\")\n",
        "print(modified_string)"
      ],
      "metadata": {
        "colab": {
          "base_uri": "https://localhost:8080/"
        },
        "id": "eNcqNnIS4_QF",
        "outputId": "3fb8d830-e847-4898-9564-b163a3e2995d"
      },
      "execution_count": 12,
      "outputs": [
        {
          "output_type": "stream",
          "name": "stdout",
          "text": [
            "I like orange\n"
          ]
        }
      ]
    },
    {
      "cell_type": "markdown",
      "source": [
        "6. Write a code to create a list with numbers 1 to 5 and print it."
      ],
      "metadata": {
        "id": "O9r5WWtb5RrM"
      }
    },
    {
      "cell_type": "code",
      "source": [
        "my_list= [1,2,3,4,5]\n",
        "print(my_list)"
      ],
      "metadata": {
        "colab": {
          "base_uri": "https://localhost:8080/"
        },
        "id": "jieCn44V5XTe",
        "outputId": "ddc9db58-9bea-4e9c-ad86-641e13b7c190"
      },
      "execution_count": 13,
      "outputs": [
        {
          "output_type": "stream",
          "name": "stdout",
          "text": [
            "[1, 2, 3, 4, 5]\n"
          ]
        }
      ]
    },
    {
      "cell_type": "markdown",
      "source": [
        "7. Write a code to append the number 10 to the list [1, 2, 3, 4]."
      ],
      "metadata": {
        "id": "JkoK50CJ5iVO"
      }
    },
    {
      "cell_type": "code",
      "source": [
        "my_list= [1,2,3,4]\n",
        "my_list.append(10)\n",
        "print(my_list)"
      ],
      "metadata": {
        "colab": {
          "base_uri": "https://localhost:8080/"
        },
        "id": "gGIdHU1N5l9u",
        "outputId": "f311e15f-4f24-479b-a4f9-bbdd6cdbd248"
      },
      "execution_count": 14,
      "outputs": [
        {
          "output_type": "stream",
          "name": "stdout",
          "text": [
            "[1, 2, 3, 4, 10]\n"
          ]
        }
      ]
    },
    {
      "cell_type": "markdown",
      "source": [
        "8. Write a code to remove the number 3 from the list [1, 2, 3, 4, 5]"
      ],
      "metadata": {
        "id": "1iiDJQY650QC"
      }
    },
    {
      "cell_type": "code",
      "source": [
        "my_list= [1,2,3,4,5]\n",
        "my_list.remove(3)\n",
        "print(my_list)"
      ],
      "metadata": {
        "colab": {
          "base_uri": "https://localhost:8080/"
        },
        "id": "gzI2vSHE534D",
        "outputId": "ac21078a-200a-412c-db65-d99533677e7e"
      },
      "execution_count": 15,
      "outputs": [
        {
          "output_type": "stream",
          "name": "stdout",
          "text": [
            "[1, 2, 4, 5]\n"
          ]
        }
      ]
    },
    {
      "cell_type": "markdown",
      "source": [
        "9. Write a code to access the second element in the list ['a', 'b', 'c', 'd']"
      ],
      "metadata": {
        "id": "KxqoRNjr6Fpf"
      }
    },
    {
      "cell_type": "code",
      "source": [
        "my_list= ['a', 'b', 'c', 'd']\n",
        "my_list[1]"
      ],
      "metadata": {
        "colab": {
          "base_uri": "https://localhost:8080/",
          "height": 36
        },
        "id": "AxEbs8et6Iij",
        "outputId": "9240ed1f-0ef3-4dfb-8026-111c1bcbeba8"
      },
      "execution_count": 17,
      "outputs": [
        {
          "output_type": "execute_result",
          "data": {
            "text/plain": [
              "'b'"
            ],
            "application/vnd.google.colaboratory.intrinsic+json": {
              "type": "string"
            }
          },
          "metadata": {},
          "execution_count": 17
        }
      ]
    },
    {
      "cell_type": "markdown",
      "source": [
        "10. Write a code to reverse the list [10, 20, 30, 40, 50]"
      ],
      "metadata": {
        "id": "11XGCIyc6bKa"
      }
    },
    {
      "cell_type": "code",
      "source": [
        "my_list= [10,20,30,40,50]\n",
        "my_list.reverse()\n",
        "my_list"
      ],
      "metadata": {
        "colab": {
          "base_uri": "https://localhost:8080/"
        },
        "id": "hQP21O7C6f5d",
        "outputId": "f64b7663-6400-4cb3-feba-6bb4ad92ba09"
      },
      "execution_count": 20,
      "outputs": [
        {
          "output_type": "execute_result",
          "data": {
            "text/plain": [
              "[50, 40, 30, 20, 10]"
            ]
          },
          "metadata": {},
          "execution_count": 20
        }
      ]
    },
    {
      "cell_type": "markdown",
      "source": [
        "11. Write a code to create a tuple with the elements 10, 20, 30 and print it."
      ],
      "metadata": {
        "id": "YDDjsmDx61jM"
      }
    },
    {
      "cell_type": "code",
      "source": [
        "my_tuple= (10,20,30)\n",
        "my_tuple"
      ],
      "metadata": {
        "colab": {
          "base_uri": "https://localhost:8080/"
        },
        "id": "28qiNwIH63-Z",
        "outputId": "1f732308-4f4d-48e2-8b0e-1d8d4d753537"
      },
      "execution_count": 21,
      "outputs": [
        {
          "output_type": "execute_result",
          "data": {
            "text/plain": [
              "(10, 20, 30)"
            ]
          },
          "metadata": {},
          "execution_count": 21
        }
      ]
    },
    {
      "cell_type": "markdown",
      "source": [
        "12. Write a code to access the first element of the tuple ('apple', 'banana', 'cherry')."
      ],
      "metadata": {
        "id": "QfhlL6ar7BdL"
      }
    },
    {
      "cell_type": "code",
      "source": [
        "my_tuple= ('apple', 'banana', 'cherry')\n",
        "my_tuple[0]"
      ],
      "metadata": {
        "colab": {
          "base_uri": "https://localhost:8080/",
          "height": 36
        },
        "id": "cLcYFi377EFC",
        "outputId": "58642301-e706-4af2-cf7a-2e99918abe20"
      },
      "execution_count": 22,
      "outputs": [
        {
          "output_type": "execute_result",
          "data": {
            "text/plain": [
              "'apple'"
            ],
            "application/vnd.google.colaboratory.intrinsic+json": {
              "type": "string"
            }
          },
          "metadata": {},
          "execution_count": 22
        }
      ]
    },
    {
      "cell_type": "markdown",
      "source": [
        "13. Write a code to count how many times the number 2 appears in the tuple (1, 2, 3, 2, 4, 2)."
      ],
      "metadata": {
        "id": "NwoEZDP97bms"
      }
    },
    {
      "cell_type": "code",
      "source": [
        "my_tuple = (1,2,3,2,4,2)\n",
        "count_2=my_tuple.count(2)\n",
        "print(count_2)"
      ],
      "metadata": {
        "colab": {
          "base_uri": "https://localhost:8080/"
        },
        "id": "1G-5Z8Qa7fcK",
        "outputId": "2c18b091-a4bd-4ca4-817d-842cc876fef3"
      },
      "execution_count": 24,
      "outputs": [
        {
          "output_type": "stream",
          "name": "stdout",
          "text": [
            "3\n"
          ]
        }
      ]
    },
    {
      "cell_type": "markdown",
      "source": [
        "14. Write a code to find the index of the element \"cat\" in the tuple ('dog', 'cat', 'rabbit')."
      ],
      "metadata": {
        "id": "ja8w2ois76DV"
      }
    },
    {
      "cell_type": "code",
      "source": [
        "my_tuple = ('dog', 'cat', 'rabbit')\n",
        "index_cat= my_tuple.index('cat')\n",
        "index_cat"
      ],
      "metadata": {
        "colab": {
          "base_uri": "https://localhost:8080/"
        },
        "id": "4G2T_BPq79ue",
        "outputId": "d1768bc2-2b4d-4167-c760-36acbda43f18"
      },
      "execution_count": 25,
      "outputs": [
        {
          "output_type": "execute_result",
          "data": {
            "text/plain": [
              "1"
            ]
          },
          "metadata": {},
          "execution_count": 25
        }
      ]
    },
    {
      "cell_type": "markdown",
      "source": [
        "15.  Write a code to check if the element \"banana\" is in the tuple ('apple', 'orange', 'banana')."
      ],
      "metadata": {
        "id": "eBQmDnEa8YXM"
      }
    },
    {
      "cell_type": "code",
      "source": [
        "my_tuple= ('apple','orange','banana')\n",
        "is_banana_in_tuple = 'banana' in my_tuple\n",
        "print(is_banana_in_tuple)"
      ],
      "metadata": {
        "colab": {
          "base_uri": "https://localhost:8080/"
        },
        "id": "Z70dzF-j8bOS",
        "outputId": "d1cd3b1c-3d83-4d5d-cd52-0534f656f47d"
      },
      "execution_count": 26,
      "outputs": [
        {
          "output_type": "stream",
          "name": "stdout",
          "text": [
            "True\n"
          ]
        }
      ]
    },
    {
      "cell_type": "markdown",
      "source": [
        "16. Write a code to create a set with the elements 1, 2, 3, 4, 5 and print it."
      ],
      "metadata": {
        "id": "B2uznz8-89cJ"
      }
    },
    {
      "cell_type": "code",
      "source": [
        "my_set= {1,2,3,4,5}\n",
        "my_set"
      ],
      "metadata": {
        "colab": {
          "base_uri": "https://localhost:8080/"
        },
        "id": "pssPn3rR9Bj1",
        "outputId": "13e25a91-9e73-4bbd-eeb1-17798ff6ff8e"
      },
      "execution_count": 27,
      "outputs": [
        {
          "output_type": "execute_result",
          "data": {
            "text/plain": [
              "{1, 2, 3, 4, 5}"
            ]
          },
          "metadata": {},
          "execution_count": 27
        }
      ]
    },
    {
      "cell_type": "markdown",
      "source": [
        "17.  Write a code to add the element 6 to the set {1, 2, 3, 4}."
      ],
      "metadata": {
        "id": "RCB097HN9MBr"
      }
    },
    {
      "cell_type": "code",
      "source": [
        "my_set= {1,2,3,4}\n",
        "my_set.add(6)\n",
        "my_set"
      ],
      "metadata": {
        "colab": {
          "base_uri": "https://localhost:8080/"
        },
        "id": "wtsfyaS49PIZ",
        "outputId": "102df018-b5c0-465b-cd64-2e91fc2564dd"
      },
      "execution_count": 28,
      "outputs": [
        {
          "output_type": "execute_result",
          "data": {
            "text/plain": [
              "{1, 2, 3, 4, 6}"
            ]
          },
          "metadata": {},
          "execution_count": 28
        }
      ]
    },
    {
      "cell_type": "markdown",
      "source": [
        "18. Write a code to create a tuple with the elements 10, 20, 30 and print it."
      ],
      "metadata": {
        "id": "LWB4mWjU9fYF"
      }
    },
    {
      "cell_type": "code",
      "source": [
        "my_tuple= (10,20,30)\n",
        "my_tuple"
      ],
      "metadata": {
        "colab": {
          "base_uri": "https://localhost:8080/"
        },
        "id": "5juvQIAt9iOX",
        "outputId": "77c0f652-7749-4e0a-9dc8-163499d04004"
      },
      "execution_count": 30,
      "outputs": [
        {
          "output_type": "execute_result",
          "data": {
            "text/plain": [
              "(10, 20, 30)"
            ]
          },
          "metadata": {},
          "execution_count": 30
        }
      ]
    },
    {
      "cell_type": "markdown",
      "source": [
        "19. Write a code to access the first element of the tuple ('apple', 'banana', 'cherry')."
      ],
      "metadata": {
        "id": "qGNqCmTZ9zO4"
      }
    },
    {
      "cell_type": "code",
      "source": [
        "my_tuple= ('apple', 'banana', 'cherry')\n",
        "my_tuple[0]"
      ],
      "metadata": {
        "colab": {
          "base_uri": "https://localhost:8080/",
          "height": 36
        },
        "id": "B1bL2vl-92Lv",
        "outputId": "0b27f39e-02dc-4b8e-905d-48f1c66ab635"
      },
      "execution_count": 31,
      "outputs": [
        {
          "output_type": "execute_result",
          "data": {
            "text/plain": [
              "'apple'"
            ],
            "application/vnd.google.colaboratory.intrinsic+json": {
              "type": "string"
            }
          },
          "metadata": {},
          "execution_count": 31
        }
      ]
    },
    {
      "cell_type": "markdown",
      "source": [
        "20. Write a code to count how many times the number 2 appears in the tuple (1, 2, 3, 2, 4, 2)\n"
      ],
      "metadata": {
        "id": "TJVLwvVP97Jv"
      }
    },
    {
      "cell_type": "code",
      "source": [
        "my_tuple = (1,2,3,2,4,2)\n",
        "count_2=my_tuple.count(2)\n",
        "print(count_2)"
      ],
      "metadata": {
        "colab": {
          "base_uri": "https://localhost:8080/"
        },
        "id": "wbN94gfZ9-88",
        "outputId": "715bec2b-a797-4824-f396-9e38511f8377"
      },
      "execution_count": 32,
      "outputs": [
        {
          "output_type": "stream",
          "name": "stdout",
          "text": [
            "3\n"
          ]
        }
      ]
    },
    {
      "cell_type": "markdown",
      "source": [
        "21. Write a code to find the index of the element \"cat\" in the tuple ('dog', 'cat', 'rabbit')."
      ],
      "metadata": {
        "id": "xppwNa0Z-E3J"
      }
    },
    {
      "cell_type": "code",
      "source": [
        "my_tuple = ('dog', 'cat', 'rabbit')\n",
        "index_cat= my_tuple.index('cat')\n",
        "index_cat"
      ],
      "metadata": {
        "colab": {
          "base_uri": "https://localhost:8080/"
        },
        "id": "aGzEZPux-IMo",
        "outputId": "c0475947-4aba-4c19-d7f9-01a65400fc4b"
      },
      "execution_count": 33,
      "outputs": [
        {
          "output_type": "execute_result",
          "data": {
            "text/plain": [
              "1"
            ]
          },
          "metadata": {},
          "execution_count": 33
        }
      ]
    },
    {
      "cell_type": "markdown",
      "source": [
        "22. Write a code to check if the element \"banana\" is in the tuple ('apple', 'orange', 'banana')"
      ],
      "metadata": {
        "id": "_Fyg7Nao-QiJ"
      }
    },
    {
      "cell_type": "code",
      "source": [
        "my_tuple= ('apple','orange','banana')\n",
        "is_banana_in_tuple = 'banana' in my_tuple\n",
        "print(is_banana_in_tuple)"
      ],
      "metadata": {
        "colab": {
          "base_uri": "https://localhost:8080/"
        },
        "id": "bwIqZJ3P-TGs",
        "outputId": "2a7e65e3-e6d3-4159-c71f-5708efda518f"
      },
      "execution_count": 34,
      "outputs": [
        {
          "output_type": "stream",
          "name": "stdout",
          "text": [
            "True\n"
          ]
        }
      ]
    },
    {
      "cell_type": "markdown",
      "source": [
        "23. Write a code to create a set with the elements 1, 2, 3, 4, 5 and print it."
      ],
      "metadata": {
        "id": "1UZroyDY-ZvK"
      }
    },
    {
      "cell_type": "code",
      "source": [
        "my_set= {1,2,3,4,5}\n",
        "my_set"
      ],
      "metadata": {
        "colab": {
          "base_uri": "https://localhost:8080/"
        },
        "id": "oQR92Flo-dNH",
        "outputId": "f2c5385b-221c-46f3-9935-26deb53440ba"
      },
      "execution_count": 35,
      "outputs": [
        {
          "output_type": "execute_result",
          "data": {
            "text/plain": [
              "{1, 2, 3, 4, 5}"
            ]
          },
          "metadata": {},
          "execution_count": 35
        }
      ]
    },
    {
      "cell_type": "markdown",
      "source": [
        "24. Write a code to add the element 6 to the set {1, 2, 3, 4}."
      ],
      "metadata": {
        "id": "9uKo7D0l-mET"
      }
    },
    {
      "cell_type": "code",
      "source": [
        "my_set= {1,2,3,4}\n",
        "my_set.add(6)\n",
        "my_set"
      ],
      "metadata": {
        "colab": {
          "base_uri": "https://localhost:8080/"
        },
        "id": "zP7UXX_C-rGY",
        "outputId": "def04597-22ca-41c9-f775-8725547a5876"
      },
      "execution_count": 36,
      "outputs": [
        {
          "output_type": "execute_result",
          "data": {
            "text/plain": [
              "{1, 2, 3, 4, 6}"
            ]
          },
          "metadata": {},
          "execution_count": 36
        }
      ]
    }
  ]
}